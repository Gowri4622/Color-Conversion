{
 "cells": [
  {
   "cell_type": "code",
   "execution_count": null,
   "metadata": {},
   "outputs": [],
   "source": [
    "import cv2\n",
    "bfly_color_image = cv2.imread('butterfly.jpg')\n",
    "cv2.imshow('original image',bfly_color_image)\n",
    "hsv_image = cv2.cvtColor(bfly_color_image,cv2.COLOR_BGR2HSV)\n",
    "cv2.imshow('BGR2HSV',hsv_image)\n",
    "hsv_image1 = cv2.cvtColor(bfly_color_image,cv2.COLOR_RGB2HSV)\n",
    "cv2.imshow('RGB2HSV',hsv_image1)\n",
    "gray_image = cv2.cvtColor(bfly_color_image,cv2.COLOR_BGR2GRAY)\n",
    "cv2.imshow('BGR2GRAY',gray_image)\n",
    "gray_image1 = cv2.cvtColor(bfly_color_image,cv2.COLOR_RGB2GRAY)\n",
    "cv2.imshow('RGB2GRAY',gray_image1)\n",
    "cv2.waitKey(0)\n",
    "cv2.destroyAllWindows()"
   ]
  },
  {
   "cell_type": "code",
   "execution_count": null,
   "metadata": {},
   "outputs": [],
   "source": [
    "import cv2\n",
    "img = cv2.imread(\"butterfly.jpg\")\n",
    "img1= cv2.resize(img, (270,190))\n",
    "hsv = cv2.cvtColor(img1 , cv2.COLOR_BGR2HSV)\n",
    "cv2.imshow(\"INITIAL_HSV \", hsv)\n",
    "hsv_rgb = cv2.cvtColor(hsv, cv2.COLOR_HSV2RGB)\n",
    "cv2.imshow(\"HSV2RGB\", hsv_rgb)\n",
    "hsv_bgr = cv2.cvtColor(hsv, cv2.COLOR_HSV2BGR)\n",
    "cv2.imshow(\"HSV2BGR\", hsv_bgr)\n",
    "cv2.waitKey(0)\n",
    "cv2.destroyAllWindows()"
   ]
  },
  {
   "cell_type": "code",
   "execution_count": null,
   "metadata": {},
   "outputs": [],
   "source": [
    "import cv2\n",
    "img = cv2.imread(\"butterfly.jpg\")\n",
    "img1= cv2.resize(img, (270,190))\n",
    "cv2.imshow(\"BGR_COLOR \", img1)\n",
    "img_ycrcb = cv2.cvtColor(img1 , cv2.COLOR_BGR2YCrCb)\n",
    "cv2.imshow(\"BGR_YCRCB \", img_ycrcb)\n",
    "img_bgr = cv2.cvtColor(img1, cv2.COLOR_BGR2RGB)\n",
    "cv2.imshow(\"RGB COLOR\", img_bgr)\n",
    "img_bgr_y = cv2.cvtColor(img_bgr, cv2.COLOR_BGR2YCrCb)\n",
    "cv2.imshow(\"RGB2YCrCb\", img_bgr_y)\n",
    "cv2.waitKey(0)\n",
    "cv2.destroyAllWindows()"
   ]
  },
  {
   "cell_type": "code",
   "execution_count": null,
   "metadata": {},
   "outputs": [],
   "source": [
    "import cv2\n",
    "img = cv2.imread(\"butterfly.jpg\")\n",
    "img1= cv2.resize(img, (270,190))\n",
    "cv2\n",
    "b,g,r = cv2.split(img1)\n",
    "cv2.imshow(\"RED MODEL\", r)\n",
    "cv2.imshow(\"GREEN MODEL\", g)\n",
    "cv2.imshow(\"BLUE MODEL \", b)\n",
    "merger = cv2.merge([b,g,r])\n",
    "cv2.imshow(\"MERGED IMAGE\", merger )\n",
    "cv2.waitKey(0)\n",
    "cv2.destroyAllWindows()"
   ]
  },
  {
   "cell_type": "code",
   "execution_count": null,
   "metadata": {},
   "outputs": [],
   "source": [
    "import cv2\n",
    "img = cv2.imread(\"butterfly.jpg\")\n",
    "img1= cv2.resize(img, (270,190))\n",
    "hsv = cv2.cvtColor(img1 , cv2.COLOR_BGR2HSV)\n",
    "cv2.imshow(\"INITIAL_HSV \", hsv)\n",
    "h,s,v = cv2.split(hsv)\n",
    "cv2.imshow(\"RED MODEL\", h)\n",
    "cv2.imshow(\"GREEN MODEL\", s)\n",
    "cv2.imshow(\"BLUE MODEL \", v)\n",
    "merger = cv2.merge([h,s,v])\n",
    "cv2.imshow(\"MERGED IMAGE\", merger )\n",
    "cv2.waitKey(0)\n",
    "cv2.destroyAllWindows()"
   ]
  },
  {
   "cell_type": "code",
   "execution_count": null,
   "metadata": {},
   "outputs": [],
   "source": []
  }
 ],
 "metadata": {
  "kernelspec": {
   "display_name": "Python 3",
   "language": "python",
   "name": "python3"
  },
  "language_info": {
   "codemirror_mode": {
    "name": "ipython",
    "version": 3
   },
   "file_extension": ".py",
   "mimetype": "text/x-python",
   "name": "python",
   "nbconvert_exporter": "python",
   "pygments_lexer": "ipython3",
   "version": "3.8.5"
  }
 },
 "nbformat": 4,
 "nbformat_minor": 4
}
